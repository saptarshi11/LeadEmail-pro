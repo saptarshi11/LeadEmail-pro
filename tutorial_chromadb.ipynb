{
 "cells": [
  {
   "cell_type": "code",
   "id": "e7156610",
   "metadata": {
    "ExecuteTime": {
     "end_time": "2024-10-16T18:44:14.219418Z",
     "start_time": "2024-10-16T18:44:10.637198Z"
    }
   },
   "source": [
    "import chromadb\n",
    "\n",
    "client = chromadb.Client()\n",
    "collection = client.create_collection(name=\"my_collection\")"
   ],
   "outputs": [],
   "execution_count": 1
  },
  {
   "cell_type": "code",
   "id": "6f35da91",
   "metadata": {
    "ExecuteTime": {
     "end_time": "2024-10-16T18:44:15.363464Z",
     "start_time": "2024-10-16T18:44:14.224197Z"
    }
   },
   "source": [
    "collection.add(\n",
    "    documents=[\n",
    "        \"This document is about New York\",\n",
    "        \"This document is about Delhi\"\n",
    "    ],\n",
    "    ids = ['id1', 'id2']\n",
    ")"
   ],
   "outputs": [],
   "execution_count": 2
  },
  {
   "cell_type": "code",
   "id": "023d55f8",
   "metadata": {
    "ExecuteTime": {
     "end_time": "2024-10-16T18:44:15.410515Z",
     "start_time": "2024-10-16T18:44:15.365533Z"
    }
   },
   "source": [
    "all_docs = collection.get()\n",
    "all_docs"
   ],
   "outputs": [
    {
     "data": {
      "text/plain": [
       "{'ids': ['id1', 'id2'],\n",
       " 'embeddings': None,\n",
       " 'metadatas': [None, None],\n",
       " 'documents': ['This document is about New York',\n",
       "  'This document is about Delhi'],\n",
       " 'uris': None,\n",
       " 'data': None}"
      ]
     },
     "execution_count": 3,
     "metadata": {},
     "output_type": "execute_result"
    }
   ],
   "execution_count": 3
  },
  {
   "cell_type": "code",
   "id": "669928f2",
   "metadata": {
    "ExecuteTime": {
     "end_time": "2024-10-16T18:44:15.442523Z",
     "start_time": "2024-10-16T18:44:15.414517Z"
    }
   },
   "source": [
    "documents = collection.get(ids=[\"id1\"])\n",
    "documents"
   ],
   "outputs": [
    {
     "data": {
      "text/plain": [
       "{'ids': ['id1'],\n",
       " 'embeddings': None,\n",
       " 'metadatas': [None],\n",
       " 'documents': ['This document is about New York'],\n",
       " 'uris': None,\n",
       " 'data': None}"
      ]
     },
     "execution_count": 4,
     "metadata": {},
     "output_type": "execute_result"
    }
   ],
   "execution_count": 4
  },
  {
   "cell_type": "code",
   "id": "01f89e5b",
   "metadata": {
    "scrolled": true,
    "ExecuteTime": {
     "end_time": "2024-10-16T18:44:15.677254Z",
     "start_time": "2024-10-16T18:44:15.452533Z"
    }
   },
   "source": [
    "results = collection.query(\n",
    "    query_texts=['Query is about big apple'],\n",
    "    n_results=2\n",
    ")\n",
    "results"
   ],
   "outputs": [
    {
     "data": {
      "text/plain": [
       "{'ids': [['id1', 'id2']],\n",
       " 'distances': [[1.6312181949615479, 1.867558479309082]],\n",
       " 'metadatas': [[None, None]],\n",
       " 'embeddings': None,\n",
       " 'documents': [['This document is about New York',\n",
       "   'This document is about Delhi']],\n",
       " 'uris': None,\n",
       " 'data': None}"
      ]
     },
     "execution_count": 5,
     "metadata": {},
     "output_type": "execute_result"
    }
   ],
   "execution_count": 5
  },
  {
   "cell_type": "code",
   "id": "4492fd01",
   "metadata": {
    "ExecuteTime": {
     "end_time": "2024-10-16T18:44:15.708256Z",
     "start_time": "2024-10-16T18:44:15.680255Z"
    }
   },
   "source": [
    "collection.delete(ids=all_docs['ids'])\n",
    "collection.get()"
   ],
   "outputs": [
    {
     "data": {
      "text/plain": [
       "{'ids': [],\n",
       " 'embeddings': None,\n",
       " 'metadatas': [],\n",
       " 'documents': [],\n",
       " 'uris': None,\n",
       " 'data': None}"
      ]
     },
     "execution_count": 6,
     "metadata": {},
     "output_type": "execute_result"
    }
   ],
   "execution_count": 6
  },
  {
   "cell_type": "code",
   "id": "197e4bad",
   "metadata": {
    "ExecuteTime": {
     "end_time": "2024-10-16T18:44:15.954389Z",
     "start_time": "2024-10-16T18:44:15.711270Z"
    }
   },
   "source": [
    "collection.add(\n",
    "    documents=[\n",
    "        \"This document is about New York\",\n",
    "        \"This document is about Delhi\"\n",
    "    ],\n",
    "    ids=[\"id3\", \"id4\"],\n",
    "    metadatas=[\n",
    "        {\"url\": \"https://en.wikipedia.org/wiki/New_York_City\"},\n",
    "        {\"url\": \"https://en.wikipedia.org/wiki/New_Delhi\"}\n",
    "    ]\n",
    ")"
   ],
   "outputs": [],
   "execution_count": 7
  },
  {
   "cell_type": "code",
   "id": "d25c8d29",
   "metadata": {
    "ExecuteTime": {
     "end_time": "2024-10-16T18:44:16.064863Z",
     "start_time": "2024-10-16T18:44:15.957469Z"
    }
   },
   "source": [
    "results = collection.query(\n",
    "    query_texts=[\"Query is about Chhole Bhature\"],\n",
    "    n_results=2\n",
    ")\n",
    "results"
   ],
   "outputs": [
    {
     "data": {
      "text/plain": [
       "{'ids': [['id4', 'id3']],\n",
       " 'distances': [[1.5588479042053223, 1.8114912509918213]],\n",
       " 'metadatas': [[{'url': 'https://en.wikipedia.org/wiki/New_Delhi'},\n",
       "   {'url': 'https://en.wikipedia.org/wiki/New_York_City'}]],\n",
       " 'embeddings': None,\n",
       " 'documents': [['This document is about Delhi',\n",
       "   'This document is about New York']],\n",
       " 'uris': None,\n",
       " 'data': None}"
      ]
     },
     "execution_count": 8,
     "metadata": {},
     "output_type": "execute_result"
    }
   ],
   "execution_count": 8
  },
  {
   "metadata": {},
   "cell_type": "code",
   "outputs": [],
   "execution_count": null,
   "source": "",
   "id": "9b9452dab5199086"
  }
 ],
 "metadata": {
  "kernelspec": {
   "display_name": "Python 3 (ipykernel)",
   "language": "python",
   "name": "python3"
  },
  "language_info": {
   "codemirror_mode": {
    "name": "ipython",
    "version": 3
   },
   "file_extension": ".py",
   "mimetype": "text/x-python",
   "name": "python",
   "nbconvert_exporter": "python",
   "pygments_lexer": "ipython3",
   "version": "3.10.11"
  }
 },
 "nbformat": 4,
 "nbformat_minor": 5
}
