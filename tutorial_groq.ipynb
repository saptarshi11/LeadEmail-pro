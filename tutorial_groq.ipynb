{
 "cells": [
  {
   "cell_type": "code",
   "id": "0f76f97c",
   "metadata": {
    "ExecuteTime": {
     "end_time": "2024-10-20T13:59:31.997160Z",
     "start_time": "2024-10-20T13:59:01.676225Z"
    }
   },
   "source": [
    "!pip install langchain-groq\n",
    "\n",
    "from langchain_groq import ChatGroq\n",
    "\n",
    "# Initialize the ChatGroq object with the required parameters\n",
    "llm = ChatGroq(\n",
    "    temperature=0, \n",
    "    groq_api_key='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', \n",
    "    model_name=\"llama-3.1-70b-versatile\"\n",
    ")\n",
    "\n",
    "# Use the model to invoke a prompt and get the response\n",
    "response = llm.invoke(\"The first person to land on the moon was ...\")\n",
    "\n",
    "# Print the response content\n",
    "print(response.content)"
   ],
   "outputs": [
    {
     "name": "stdout",
     "output_type": "stream",
     "text": [
      "Requirement already satisfied: langchain-groq in c:\\users\\saptarshi mukherjee\\anaconda3\\lib\\site-packages (0.2.0)\n",
      "Requirement already satisfied: groq<1,>=0.4.1 in c:\\users\\saptarshi mukherjee\\anaconda3\\lib\\site-packages (from langchain-groq) (0.11.0)\n",
      "Requirement already satisfied: langchain-core<0.4,>=0.3 in c:\\users\\saptarshi mukherjee\\anaconda3\\lib\\site-packages (from langchain-groq) (0.3.12)\n",
      "Requirement already satisfied: anyio<5,>=3.5.0 in c:\\users\\saptarshi mukherjee\\anaconda3\\lib\\site-packages (from groq<1,>=0.4.1->langchain-groq) (3.5.0)\n",
      "Requirement already satisfied: distro<2,>=1.7.0 in c:\\users\\saptarshi mukherjee\\anaconda3\\lib\\site-packages (from groq<1,>=0.4.1->langchain-groq) (1.9.0)\n",
      "Requirement already satisfied: httpx<1,>=0.23.0 in c:\\users\\saptarshi mukherjee\\anaconda3\\lib\\site-packages (from groq<1,>=0.4.1->langchain-groq) (0.27.0)\n",
      "Requirement already satisfied: pydantic<3,>=1.9.0 in c:\\users\\saptarshi mukherjee\\anaconda3\\lib\\site-packages (from groq<1,>=0.4.1->langchain-groq) (2.9.2)\n",
      "Requirement already satisfied: sniffio in c:\\users\\saptarshi mukherjee\\anaconda3\\lib\\site-packages (from groq<1,>=0.4.1->langchain-groq) (1.2.0)\n",
      "Requirement already satisfied: typing-extensions<5,>=4.7 in c:\\users\\saptarshi mukherjee\\anaconda3\\lib\\site-packages (from groq<1,>=0.4.1->langchain-groq) (4.12.2)\n",
      "Requirement already satisfied: PyYAML>=5.3 in c:\\users\\saptarshi mukherjee\\anaconda3\\lib\\site-packages (from langchain-core<0.4,>=0.3->langchain-groq) (6.0)\n",
      "Requirement already satisfied: jsonpatch<2.0,>=1.33 in c:\\users\\saptarshi mukherjee\\anaconda3\\lib\\site-packages (from langchain-core<0.4,>=0.3->langchain-groq) (1.33)\n",
      "Requirement already satisfied: langsmith<0.2.0,>=0.1.125 in c:\\users\\saptarshi mukherjee\\anaconda3\\lib\\site-packages (from langchain-core<0.4,>=0.3->langchain-groq) (0.1.136)\n",
      "Requirement already satisfied: packaging<25,>=23.2 in c:\\users\\saptarshi mukherjee\\anaconda3\\lib\\site-packages (from langchain-core<0.4,>=0.3->langchain-groq) (23.2)\n",
      "Requirement already satisfied: tenacity!=8.4.0,<10.0.0,>=8.1.0 in c:\\users\\saptarshi mukherjee\\anaconda3\\lib\\site-packages (from langchain-core<0.4,>=0.3->langchain-groq) (8.2.3)\n",
      "Requirement already satisfied: idna>=2.8 in c:\\users\\saptarshi mukherjee\\anaconda3\\lib\\site-packages (from anyio<5,>=3.5.0->groq<1,>=0.4.1->langchain-groq) (3.3)\n",
      "Requirement already satisfied: certifi in c:\\users\\saptarshi mukherjee\\anaconda3\\lib\\site-packages (from httpx<1,>=0.23.0->groq<1,>=0.4.1->langchain-groq) (2024.7.4)\n",
      "Requirement already satisfied: httpcore==1.* in c:\\users\\saptarshi mukherjee\\anaconda3\\lib\\site-packages (from httpx<1,>=0.23.0->groq<1,>=0.4.1->langchain-groq) (1.0.5)\n",
      "Requirement already satisfied: h11<0.15,>=0.13 in c:\\users\\saptarshi mukherjee\\anaconda3\\lib\\site-packages (from httpcore==1.*->httpx<1,>=0.23.0->groq<1,>=0.4.1->langchain-groq) (0.14.0)\n",
      "Requirement already satisfied: jsonpointer>=1.9 in c:\\users\\saptarshi mukherjee\\anaconda3\\lib\\site-packages (from jsonpatch<2.0,>=1.33->langchain-core<0.4,>=0.3->langchain-groq) (2.1)\n",
      "Requirement already satisfied: orjson<4.0.0,>=3.9.14 in c:\\users\\saptarshi mukherjee\\anaconda3\\lib\\site-packages (from langsmith<0.2.0,>=0.1.125->langchain-core<0.4,>=0.3->langchain-groq) (3.10.9)\n",
      "Requirement already satisfied: requests<3,>=2 in c:\\users\\saptarshi mukherjee\\anaconda3\\lib\\site-packages (from langsmith<0.2.0,>=0.1.125->langchain-core<0.4,>=0.3->langchain-groq) (2.31.0)\n",
      "Requirement already satisfied: requests-toolbelt<2.0.0,>=1.0.0 in c:\\users\\saptarshi mukherjee\\anaconda3\\lib\\site-packages (from langsmith<0.2.0,>=0.1.125->langchain-core<0.4,>=0.3->langchain-groq) (1.0.0)\n",
      "Requirement already satisfied: annotated-types>=0.6.0 in c:\\users\\saptarshi mukherjee\\anaconda3\\lib\\site-packages (from pydantic<3,>=1.9.0->groq<1,>=0.4.1->langchain-groq) (0.7.0)\n",
      "Requirement already satisfied: pydantic-core==2.23.4 in c:\\users\\saptarshi mukherjee\\anaconda3\\lib\\site-packages (from pydantic<3,>=1.9.0->groq<1,>=0.4.1->langchain-groq) (2.23.4)\n",
      "Requirement already satisfied: charset-normalizer<4,>=2 in c:\\users\\saptarshi mukherjee\\anaconda3\\lib\\site-packages (from requests<3,>=2->langsmith<0.2.0,>=0.1.125->langchain-core<0.4,>=0.3->langchain-groq) (3.3.2)\n",
      "Requirement already satisfied: urllib3<3,>=1.21.1 in c:\\users\\saptarshi mukherjee\\anaconda3\\lib\\site-packages (from requests<3,>=2->langsmith<0.2.0,>=0.1.125->langchain-core<0.4,>=0.3->langchain-groq) (2.1.0)\n",
      "Neil Armstrong. He stepped onto the moon's surface on July 20, 1969, during the Apollo 11 mission.\n"
     ]
    }
   ],
   "execution_count": 4
  },
  {
   "metadata": {
    "ExecuteTime": {
     "end_time": "2024-10-16T18:43:58.427007Z",
     "start_time": "2024-10-16T18:43:58.400106Z"
    }
   },
   "cell_type": "code",
   "source": "",
   "id": "e7fe3fdcd6b3b1a1",
   "outputs": [],
   "execution_count": 2
  },
  {
   "metadata": {},
   "cell_type": "code",
   "outputs": [],
   "execution_count": null,
   "source": "",
   "id": "f134c4de008a9738"
  }
 ],
 "metadata": {
  "kernelspec": {
   "display_name": "Python 3 (ipykernel)",
   "language": "python",
   "name": "python3"
  },
  "language_info": {
   "codemirror_mode": {
    "name": "ipython",
    "version": 3
   },
   "file_extension": ".py",
   "mimetype": "text/x-python",
   "name": "python",
   "nbconvert_exporter": "python",
   "pygments_lexer": "ipython3",
   "version": "3.10.11"
  }
 },
 "nbformat": 4,
 "nbformat_minor": 5
}
