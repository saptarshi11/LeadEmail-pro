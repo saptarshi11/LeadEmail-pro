{
 "cells": [
  {
   "cell_type": "code",
   "id": "0eccd20e",
   "metadata": {
    "ExecuteTime": {
     "end_time": "2024-10-16T18:54:07.627973Z",
     "start_time": "2024-10-16T18:54:07.590480Z"
    }
   },
   "source": [
    "from langchain_groq import ChatGroq"
   ],
   "outputs": [],
   "execution_count": 7
  },
  {
   "cell_type": "code",
   "id": "c16ff50e",
   "metadata": {
    "ExecuteTime": {
     "end_time": "2024-10-16T18:54:21.709645Z",
     "start_time": "2024-10-16T18:54:09.634350Z"
    }
   },
   "source": [
    "llm = ChatGroq(\n",
    "    temperature=0, \n",
    "    groq_api_key='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', \n",
    "    model_name=\"llama-3.1-70b-versatile\"\n",
    ")\n",
    "response = llm.invoke(input=\"The first person to land on moon was ...\")\n",
    "print(response.content)\n"
   ],
   "outputs": [
    {
     "name": "stdout",
     "output_type": "stream",
     "text": [
      "The first person to land on the moon was Neil Armstrong. He stepped onto the lunar surface on July 20, 1969, as part of the Apollo 11 mission.\n"
     ]
    }
   ],
   "execution_count": 8
  },
  {
   "cell_type": "code",
   "id": "90d33612",
   "metadata": {
    "ExecuteTime": {
     "end_time": "2024-10-16T18:54:30.241582Z",
     "start_time": "2024-10-16T18:54:27.432750Z"
    }
   },
   "source": [
    "from langchain_community.document_loaders import WebBaseLoader\n",
    "\n",
    "loader = WebBaseLoader(\"https://jobs.nike.com/job/R-33460\")\n",
    "page_data = loader.load().pop().page_content\n",
    "print(page_data)"
   ],
   "outputs": [
    {
     "name": "stderr",
     "output_type": "stream",
     "text": [
      "USER_AGENT environment variable not set, consider setting it to identify your requests.\n"
     ]
    },
    {
     "name": "stdout",
     "output_type": "stream",
     "text": [
      "\n",
      "\n",
      "Search JobsSkip navigationSearch JobsNIKE, INC. JOBSContract JobsJoin The Talent CommunityLife @ NikeOverviewBenefitsBrandsOverviewJordanConverseTeamsOverviewAdministrative SupportAdvanced InnovationAir Manufacturing InnovationAviationCommunicationsCustomer ServiceDesignDigitalFacilitiesFinance & AccountingGovernment & Public AffairsHuman ResourcesInsights & AnalyticsLegalManufacturing & EngineeringMarketingMerchandisingPlanningPrivacyProcurementProduct Creation, Development & ManagementRetail CorporateRetail StoresSalesSocial & Community ImpactSports MarketingStrategic PlanningSupply Chain, Distribution & LogisticsSustainabilityTechnologyLocationsOverviewNike WHQNike New York HQEHQ: Hilversum, The NetherlandsELC: Laakdal, BelgiumGreater China HQDiversity, Equity & InclusionOverviewMilitary InclusionDisability InclusionIndigenous InclusionInternshipsFIND A STOREBECOME A MEMBERSIGN UP FOR EMAILSEND US FEEDBACKSTUDENT DISCOUNTSGET HELPGET HELPOrder StatusDeliveryReturnsPayment OptionsContact Us On Nike.com InquiriesContact Us On All Other InquiriesABOUT NIKEABOUT NIKENewsCareersInvestorsSustainabilityIndia© 2024 Nike, Inc. All Rights ReservedGuidesNike AdaptNike Air MaxNike FlyleatherNike PegasusNike Zoom FlyNike AirNike FlyEaseNike FreeNike ReactNike ZoomXNike Air Force 1Nike FlyknitNike JoyrideNike VaporflyTerms of SaleTerms of UseNike Privacy Policy\n"
     ]
    }
   ],
   "execution_count": 9
  },
  {
   "cell_type": "code",
   "id": "85c89a57",
   "metadata": {
    "ExecuteTime": {
     "end_time": "2024-10-16T18:54:45.060029Z",
     "start_time": "2024-10-16T18:54:36.019803Z"
    }
   },
   "source": [
    "from langchain_core.prompts import PromptTemplate\n",
    "\n",
    "prompt_extract = PromptTemplate.from_template(\n",
    "        \"\"\"\n",
    "        ### SCRAPED TEXT FROM WEBSITE:\n",
    "        {page_data}\n",
    "        ### INSTRUCTION:\n",
    "        The scraped text is from the career's page of a website.\n",
    "        Your job is to extract the job postings and return them in JSON format containing the \n",
    "        following keys: `role`, `experience`, `skills` and `description`.\n",
    "        Only return the valid JSON.\n",
    "        ### VALID JSON (NO PREAMBLE):    \n",
    "        \"\"\"\n",
    ")\n",
    "\n",
    "chain_extract = prompt_extract | llm \n",
    "res = chain_extract.invoke(input={'page_data':page_data})\n",
    "type(res.content)"
   ],
   "outputs": [
    {
     "data": {
      "text/plain": [
       "str"
      ]
     },
     "execution_count": 10,
     "metadata": {},
     "output_type": "execute_result"
    }
   ],
   "execution_count": 10
  },
  {
   "cell_type": "code",
   "id": "5415fd54",
   "metadata": {
    "ExecuteTime": {
     "end_time": "2024-10-16T18:54:45.230451Z",
     "start_time": "2024-10-16T18:54:45.063396Z"
    }
   },
   "source": [
    "from langchain_core.output_parsers import JsonOutputParser\n",
    "\n",
    "json_parser = JsonOutputParser()\n",
    "json_res = json_parser.parse(res.content)\n",
    "json_res"
   ],
   "outputs": [
    {
     "data": {
      "text/plain": [
       "[{'role': 'Administrative Support',\n",
       "  'experience': '',\n",
       "  'skills': '',\n",
       "  'description': ''},\n",
       " {'role': 'Advanced Innovation',\n",
       "  'experience': '',\n",
       "  'skills': '',\n",
       "  'description': ''},\n",
       " {'role': 'Air Manufacturing Innovation',\n",
       "  'experience': '',\n",
       "  'skills': '',\n",
       "  'description': ''},\n",
       " {'role': 'Aviation', 'experience': '', 'skills': '', 'description': ''},\n",
       " {'role': 'Communications', 'experience': '', 'skills': '', 'description': ''},\n",
       " {'role': 'Customer Service',\n",
       "  'experience': '',\n",
       "  'skills': '',\n",
       "  'description': ''},\n",
       " {'role': 'Design', 'experience': '', 'skills': '', 'description': ''},\n",
       " {'role': 'Digital', 'experience': '', 'skills': '', 'description': ''},\n",
       " {'role': 'Facilities', 'experience': '', 'skills': '', 'description': ''},\n",
       " {'role': 'Finance & Accounting',\n",
       "  'experience': '',\n",
       "  'skills': '',\n",
       "  'description': ''},\n",
       " {'role': 'Government & Public Affairs',\n",
       "  'experience': '',\n",
       "  'skills': '',\n",
       "  'description': ''},\n",
       " {'role': 'Human Resources',\n",
       "  'experience': '',\n",
       "  'skills': '',\n",
       "  'description': ''},\n",
       " {'role': 'Insights & Analytics',\n",
       "  'experience': '',\n",
       "  'skills': '',\n",
       "  'description': ''},\n",
       " {'role': 'Legal', 'experience': '', 'skills': '', 'description': ''},\n",
       " {'role': 'Manufacturing & Engineering',\n",
       "  'experience': '',\n",
       "  'skills': '',\n",
       "  'description': ''},\n",
       " {'role': 'Marketing', 'experience': '', 'skills': '', 'description': ''},\n",
       " {'role': 'Merchandising', 'experience': '', 'skills': '', 'description': ''},\n",
       " {'role': 'Planning', 'experience': '', 'skills': '', 'description': ''},\n",
       " {'role': 'Privacy', 'experience': '', 'skills': '', 'description': ''},\n",
       " {'role': 'Procurement', 'experience': '', 'skills': '', 'description': ''},\n",
       " {'role': 'Product Creation, Development & Management',\n",
       "  'experience': '',\n",
       "  'skills': '',\n",
       "  'description': ''},\n",
       " {'role': 'Retail Corporate',\n",
       "  'experience': '',\n",
       "  'skills': '',\n",
       "  'description': ''},\n",
       " {'role': 'Retail Stores', 'experience': '', 'skills': '', 'description': ''},\n",
       " {'role': 'Sales', 'experience': '', 'skills': '', 'description': ''},\n",
       " {'role': 'Social & Community Impact',\n",
       "  'experience': '',\n",
       "  'skills': '',\n",
       "  'description': ''},\n",
       " {'role': 'Sports Marketing',\n",
       "  'experience': '',\n",
       "  'skills': '',\n",
       "  'description': ''},\n",
       " {'role': 'Strategic Planning',\n",
       "  'experience': '',\n",
       "  'skills': '',\n",
       "  'description': ''},\n",
       " {'role': 'Supply Chain, Distribution & Logistics',\n",
       "  'experience': '',\n",
       "  'skills': '',\n",
       "  'description': ''},\n",
       " {'role': 'Sustainability', 'experience': '', 'skills': '', 'description': ''},\n",
       " {'role': 'Technology', 'experience': '', 'skills': '', 'description': ''}]"
      ]
     },
     "execution_count": 11,
     "metadata": {},
     "output_type": "execute_result"
    }
   ],
   "execution_count": 11
  },
  {
   "cell_type": "code",
   "id": "39961ed6",
   "metadata": {
    "ExecuteTime": {
     "end_time": "2024-10-16T18:54:45.260812Z",
     "start_time": "2024-10-16T18:54:45.236453Z"
    }
   },
   "source": [
    "type(json_res)"
   ],
   "outputs": [
    {
     "data": {
      "text/plain": [
       "list"
      ]
     },
     "execution_count": 12,
     "metadata": {},
     "output_type": "execute_result"
    }
   ],
   "execution_count": 12
  },
  {
   "cell_type": "code",
   "id": "1e8a0f74",
   "metadata": {
    "ExecuteTime": {
     "end_time": "2024-10-16T18:54:52.511895Z",
     "start_time": "2024-10-16T18:54:50.676495Z"
    }
   },
   "source": [
    "import pandas as pd\n",
    "\n",
    "df = pd.read_csv(\"my_portfolio.csv\")\n",
    "df"
   ],
   "outputs": [
    {
     "data": {
      "text/plain": [
       "                               Techstack  \\\n",
       "0                React, Node.js, MongoDB   \n",
       "1               Angular,.NET, SQL Server   \n",
       "2      Vue.js, Ruby on Rails, PostgreSQL   \n",
       "3                  Python, Django, MySQL   \n",
       "4              Java, Spring Boot, Oracle   \n",
       "5             Flutter, Firebase, GraphQL   \n",
       "6                  WordPress, PHP, MySQL   \n",
       "7                    Magento, PHP, MySQL   \n",
       "8         React Native, Node.js, MongoDB   \n",
       "9                  iOS, Swift, Core Data   \n",
       "10       Android, Java, Room Persistence   \n",
       "11             Kotlin, Android, Firebase   \n",
       "12       Android TV, Kotlin, Android NDK   \n",
       "13                     iOS, Swift, ARKit   \n",
       "14        Cross-platform, Xamarin, Azure   \n",
       "15          Backend, Kotlin, Spring Boot   \n",
       "16         Frontend, TypeScript, Angular   \n",
       "17    Full-stack, JavaScript, Express.js   \n",
       "18  Machine Learning, Python, TensorFlow   \n",
       "19               DevOps, Jenkins, Docker   \n",
       "\n",
       "                                                Links  \n",
       "0                 https://example.com/react-portfolio  \n",
       "1               https://example.com/angular-portfolio  \n",
       "2                   https://example.com/vue-portfolio  \n",
       "3                https://example.com/python-portfolio  \n",
       "4                  https://example.com/java-portfolio  \n",
       "5               https://example.com/flutter-portfolio  \n",
       "6             https://example.com/wordpress-portfolio  \n",
       "7               https://example.com/magento-portfolio  \n",
       "8          https://example.com/react-native-portfolio  \n",
       "9                   https://example.com/ios-portfolio  \n",
       "10              https://example.com/android-portfolio  \n",
       "11       https://example.com/kotlin-android-portfolio  \n",
       "12           https://example.com/android-tv-portfolio  \n",
       "13               https://example.com/ios-ar-portfolio  \n",
       "14              https://example.com/xamarin-portfolio  \n",
       "15       https://example.com/kotlin-backend-portfolio  \n",
       "16  https://example.com/typescript-frontend-portfolio  \n",
       "17        https://example.com/full-stack-js-portfolio  \n",
       "18            https://example.com/ml-python-portfolio  \n",
       "19               https://example.com/devops-portfolio  "
      ],
      "text/html": [
       "<div>\n",
       "<style scoped>\n",
       "    .dataframe tbody tr th:only-of-type {\n",
       "        vertical-align: middle;\n",
       "    }\n",
       "\n",
       "    .dataframe tbody tr th {\n",
       "        vertical-align: top;\n",
       "    }\n",
       "\n",
       "    .dataframe thead th {\n",
       "        text-align: right;\n",
       "    }\n",
       "</style>\n",
       "<table border=\"1\" class=\"dataframe\">\n",
       "  <thead>\n",
       "    <tr style=\"text-align: right;\">\n",
       "      <th></th>\n",
       "      <th>Techstack</th>\n",
       "      <th>Links</th>\n",
       "    </tr>\n",
       "  </thead>\n",
       "  <tbody>\n",
       "    <tr>\n",
       "      <th>0</th>\n",
       "      <td>React, Node.js, MongoDB</td>\n",
       "      <td>https://example.com/react-portfolio</td>\n",
       "    </tr>\n",
       "    <tr>\n",
       "      <th>1</th>\n",
       "      <td>Angular,.NET, SQL Server</td>\n",
       "      <td>https://example.com/angular-portfolio</td>\n",
       "    </tr>\n",
       "    <tr>\n",
       "      <th>2</th>\n",
       "      <td>Vue.js, Ruby on Rails, PostgreSQL</td>\n",
       "      <td>https://example.com/vue-portfolio</td>\n",
       "    </tr>\n",
       "    <tr>\n",
       "      <th>3</th>\n",
       "      <td>Python, Django, MySQL</td>\n",
       "      <td>https://example.com/python-portfolio</td>\n",
       "    </tr>\n",
       "    <tr>\n",
       "      <th>4</th>\n",
       "      <td>Java, Spring Boot, Oracle</td>\n",
       "      <td>https://example.com/java-portfolio</td>\n",
       "    </tr>\n",
       "    <tr>\n",
       "      <th>5</th>\n",
       "      <td>Flutter, Firebase, GraphQL</td>\n",
       "      <td>https://example.com/flutter-portfolio</td>\n",
       "    </tr>\n",
       "    <tr>\n",
       "      <th>6</th>\n",
       "      <td>WordPress, PHP, MySQL</td>\n",
       "      <td>https://example.com/wordpress-portfolio</td>\n",
       "    </tr>\n",
       "    <tr>\n",
       "      <th>7</th>\n",
       "      <td>Magento, PHP, MySQL</td>\n",
       "      <td>https://example.com/magento-portfolio</td>\n",
       "    </tr>\n",
       "    <tr>\n",
       "      <th>8</th>\n",
       "      <td>React Native, Node.js, MongoDB</td>\n",
       "      <td>https://example.com/react-native-portfolio</td>\n",
       "    </tr>\n",
       "    <tr>\n",
       "      <th>9</th>\n",
       "      <td>iOS, Swift, Core Data</td>\n",
       "      <td>https://example.com/ios-portfolio</td>\n",
       "    </tr>\n",
       "    <tr>\n",
       "      <th>10</th>\n",
       "      <td>Android, Java, Room Persistence</td>\n",
       "      <td>https://example.com/android-portfolio</td>\n",
       "    </tr>\n",
       "    <tr>\n",
       "      <th>11</th>\n",
       "      <td>Kotlin, Android, Firebase</td>\n",
       "      <td>https://example.com/kotlin-android-portfolio</td>\n",
       "    </tr>\n",
       "    <tr>\n",
       "      <th>12</th>\n",
       "      <td>Android TV, Kotlin, Android NDK</td>\n",
       "      <td>https://example.com/android-tv-portfolio</td>\n",
       "    </tr>\n",
       "    <tr>\n",
       "      <th>13</th>\n",
       "      <td>iOS, Swift, ARKit</td>\n",
       "      <td>https://example.com/ios-ar-portfolio</td>\n",
       "    </tr>\n",
       "    <tr>\n",
       "      <th>14</th>\n",
       "      <td>Cross-platform, Xamarin, Azure</td>\n",
       "      <td>https://example.com/xamarin-portfolio</td>\n",
       "    </tr>\n",
       "    <tr>\n",
       "      <th>15</th>\n",
       "      <td>Backend, Kotlin, Spring Boot</td>\n",
       "      <td>https://example.com/kotlin-backend-portfolio</td>\n",
       "    </tr>\n",
       "    <tr>\n",
       "      <th>16</th>\n",
       "      <td>Frontend, TypeScript, Angular</td>\n",
       "      <td>https://example.com/typescript-frontend-portfolio</td>\n",
       "    </tr>\n",
       "    <tr>\n",
       "      <th>17</th>\n",
       "      <td>Full-stack, JavaScript, Express.js</td>\n",
       "      <td>https://example.com/full-stack-js-portfolio</td>\n",
       "    </tr>\n",
       "    <tr>\n",
       "      <th>18</th>\n",
       "      <td>Machine Learning, Python, TensorFlow</td>\n",
       "      <td>https://example.com/ml-python-portfolio</td>\n",
       "    </tr>\n",
       "    <tr>\n",
       "      <th>19</th>\n",
       "      <td>DevOps, Jenkins, Docker</td>\n",
       "      <td>https://example.com/devops-portfolio</td>\n",
       "    </tr>\n",
       "  </tbody>\n",
       "</table>\n",
       "</div>"
      ]
     },
     "execution_count": 13,
     "metadata": {},
     "output_type": "execute_result"
    }
   ],
   "execution_count": 13
  },
  {
   "cell_type": "code",
   "id": "f7e888d4",
   "metadata": {
    "ExecuteTime": {
     "end_time": "2024-10-16T18:55:11.056541Z",
     "start_time": "2024-10-16T18:55:11.028542Z"
    }
   },
   "source": [
    "import uuid\n",
    "import chromadb\n",
    "\n",
    "client = chromadb.PersistentClient('vectorstore')\n",
    "collection = client.get_or_create_collection(name=\"portfolio\")\n",
    "\n",
    "if not collection.count():\n",
    "    for _, row in df.iterrows():\n",
    "        collection.add(documents=row[\"Techstack\"],\n",
    "                       metadatas={\"links\": row[\"Links\"]},\n",
    "                       ids=[str(uuid.uuid4())])"
   ],
   "outputs": [],
   "execution_count": 16
  },
  {
   "cell_type": "code",
   "id": "39ad2fa2",
   "metadata": {
    "ExecuteTime": {
     "end_time": "2024-10-16T19:03:46.044140Z",
     "start_time": "2024-10-16T19:03:45.810016Z"
    }
   },
   "source": [
    "links = collection.query(query_texts= [\"Expertise in python\",\"Expertise in React Native\"], n_results=2).get('metadatas', [])\n",
    "links"
   ],
   "outputs": [
    {
     "data": {
      "text/plain": [
       "[[{'links': 'https://example.com/ml-python-portfolio'},\n",
       "  {'links': 'https://example.com/python-portfolio'}],\n",
       " [{'links': 'https://example.com/react-native-portfolio'},\n",
       "  {'links': 'https://example.com/react-portfolio'}]]"
      ]
     },
     "execution_count": 22,
     "metadata": {},
     "output_type": "execute_result"
    }
   ],
   "execution_count": 22
  },
  {
   "cell_type": "code",
   "id": "64a97dd2",
   "metadata": {
    "ExecuteTime": {
     "end_time": "2024-10-16T19:10:20.879792Z",
     "start_time": "2024-10-16T19:10:08.381210Z"
    }
   },
   "source": [
    "prompt_email = PromptTemplate.from_template(\n",
    "        \"\"\"\n",
    "        ### JOB DESCRIPTION:\n",
    "        {job_description}\n",
    "        \n",
    "        ### INSTRUCTION:\n",
    "        You are Saptarshi, a business development executive at Atlit. Atlit is an AI & Software Consulting company dedicated to facilitating\n",
    "        the seamless integration of business processes through automated tools. \n",
    "        Over our experience, we have empowered numerous enterprises with tailored solutions, fostering scalability, \n",
    "        process optimization, cost reduction, and heightened overall efficiency. \n",
    "        Your job is to write a cold email to the client regarding the job mentioned above describing the capability of AtliQ \n",
    "        in fulfilling their needs.\n",
    "        Also add the most relevant ones from the following links to showcase Atlit's portfolio: {link_list}\n",
    "        Remember you are Saptarshi, BDE at Atlit. \n",
    "        Do not provide a preamble.\n",
    "        ### EMAIL (NO PREAMBLE):\n",
    "        \n",
    "        \"\"\"\n",
    "        )\n",
    "\n",
    "chain_email = prompt_email | llm\n",
    "res = chain_email.invoke({\"job_description\": str(job), \"link_list\": links})\n",
    "print(res.content)"
   ],
   "outputs": [
    {
     "name": "stdout",
     "output_type": "stream",
     "text": [
      "Subject: Unlock Efficiency and Scalability with Atlit's AI-Powered Solutions\n",
      "\n",
      "Dear Hiring Manager,\n",
      "\n",
      "I came across your job postings and was impressed by the diverse range of roles you're looking to fill. As a Business Development Executive at Atlit, I'd like to introduce you to our AI & Software Consulting services that can help streamline your business processes and drive growth.\n",
      "\n",
      "Atlit has a proven track record of empowering enterprises with tailored solutions that foster scalability, process optimization, cost reduction, and heightened overall efficiency. Our team of experts can help you automate tasks, enhance decision-making, and improve customer experiences.\n",
      "\n",
      "I'd like to highlight a few areas where our capabilities align with your job postings:\n",
      "\n",
      "* **Manufacturing & Engineering**: Our AI-powered solutions can help optimize production workflows, predict maintenance needs, and improve supply chain management.\n",
      "* **Digital**: We can assist in developing custom digital solutions, including web and mobile applications, to enhance customer engagement and drive business growth.\n",
      "* **Insights & Analytics**: Our data analytics services can help you gain valuable insights from your data, enabling informed decision-making and strategic planning.\n",
      "* **Technology**: Our expertise in emerging technologies like AI, ML, and IoT can help you stay ahead of the competition and drive innovation.\n",
      "\n",
      "To give you a glimpse into our portfolio, I'd like to share a few relevant examples:\n",
      "\n",
      "* Our machine learning expertise: https://example.com/ml-python-portfolio\n",
      "* Our React Native and React portfolio: https://example.com/react-native-portfolio, https://example.com/react-portfolio\n",
      "\n",
      "These examples demonstrate our ability to deliver high-quality solutions that meet the unique needs of our clients. I'd love to discuss how we can help you achieve your business goals.\n",
      "\n",
      "If you're interested in learning more about our services and how we can support your organization, please don't hesitate to reach out. I'd be happy to schedule a call to explore further.\n",
      "\n",
      "Best regards,\n",
      "\n",
      "Saptarshi\n",
      "Business Development Executive\n",
      "Atlit\n"
     ]
    }
   ],
   "execution_count": 25
  },
  {
   "metadata": {
    "ExecuteTime": {
     "end_time": "2024-10-16T19:10:08.379182Z",
     "start_time": "2024-10-16T19:10:08.366383Z"
    }
   },
   "cell_type": "code",
   "source": "",
   "id": "db0ad039e635da86",
   "outputs": [],
   "execution_count": 24
  }
 ],
 "metadata": {
  "kernelspec": {
   "display_name": "Python 3 (ipykernel)",
   "language": "python",
   "name": "python3"
  },
  "language_info": {
   "codemirror_mode": {
    "name": "ipython",
    "version": 3
   },
   "file_extension": ".py",
   "mimetype": "text/x-python",
   "name": "python",
   "nbconvert_exporter": "python",
   "pygments_lexer": "ipython3",
   "version": "3.10.11"
  }
 },
 "nbformat": 4,
 "nbformat_minor": 5
}
